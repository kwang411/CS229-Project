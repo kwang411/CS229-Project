{
 "cells": [
  {
   "cell_type": "code",
   "execution_count": null,
   "metadata": {},
   "outputs": [],
   "source": [
    "import matplotlib\n",
    "matplotlib.use('Agg')\n",
    "import matplotlib.pyplot as plt\n",
    "\n",
    "import numpy as np\n",
    "from scipy.spatial.distance import pdist, squareform\n",
    "\n",
    "import dpp.sampler.dpp as dpp\n",
    "import dpp.sampler.mcdpp as mcdpp\n",
    "import dpp.sampler.utils as utils\n",
    "\n",
    "# currently only support cpu mode\n",
    "flag_gpu = False\n",
    "\n",
    "# Construct kernel matrix\n",
    "Ngrid = 50\n",
    "X = np.mgrid[-1:1:2./Ngrid, -1:1:2./Ngrid].reshape(2,Ngrid**2).transpose()\n",
    "pairwise_dists = squareform(pdist(X, 'euclidean'))\n",
    "L = np.exp(-pairwise_dists ** 2 / 0.5 ** 2)\n",
    "\n",
    "# Get eigendecomposition of kernel matrix\n",
    "D, V = utils.get_eig(L, flag_gpu=flag_gpu)\n",
    "\n",
    "# Samples and plot from unif and standard DPPs\n",
    "print('DPP-Eigendecomp')\n",
    "dpp_smpl = dpp.sample(D, V, flag_gpu=flag_gpu)\n",
    "mc_init = utils.kpp(L, len(dpp_smpl), flag_kernel=True)\n",
    "print('DPP-MCMC')\n",
    "mcdpp_smpl = mcdpp.sample(L, 5000, init_rst=mc_init, flag_gpu=flag_gpu)\n",
    "unif_smpl = np.random.permutation(len(X))[:len(dpp_smpl)]\n",
    "\n",
    "plt.figure(figsize=(12,4))\n",
    "plt.subplot(1,3,1)\n",
    "plt.plot(X[unif_smpl, 0], X[unif_smpl, 1],'r.',)\n",
    "plt.title('Unif')\n",
    "\n",
    "plt.subplot(1,3,2)\n",
    "plt.plot(X[dpp_smpl, 0], X[dpp_smpl, 1],'b.',)\n",
    "plt.title('DPP')\n",
    "\n",
    "plt.subplot(1,3,3)\n",
    "plt.plot(X[mcdpp_smpl, 0], X[mcdpp_smpl, 1],'g.',)\n",
    "plt.title('DPP-MC')\n",
    "\n",
    "plt.savefig('fig/unif-dpp-mcdpp', bbox_inches='tight')\n",
    "\n",
    "\n",
    "# Samples and plot from unif and k-DPPs\n",
    "k = 100\n",
    "E = utils.get_sympoly(D, k, flag_gpu=flag_gpu)\n",
    "\n",
    "# Samples and plot from unif and standard DPPs\n",
    "unif_smpl = np.random.permutation(len(X))[:k]\n",
    "print('kDPP-Eigendecomp')\n",
    "dpp_smpl  = dpp.sample(D, V, E=E, k=k, flag_gpu=flag_gpu)\n",
    "print('kDPP-MCMC')\n",
    "mc_init = utils.kpp(L, k, flag_kernel=True)\n",
    "mcdpp_smpl = mcdpp.sample(L, 5000, k=k, init_rst=mc_init, flag_gpu=flag_gpu)\n",
    "\n",
    "plt.figure(figsize=(12,4))\n",
    "plt.subplot(1,3,1)\n",
    "plt.plot(X[unif_smpl, 0], X[unif_smpl, 1],'r.',)\n",
    "plt.title('Unif')\n",
    "\n",
    "plt.subplot(1,3,2)\n",
    "plt.plot(X[dpp_smpl, 0], X[dpp_smpl, 1],'b.',)\n",
    "plt.title('kDPP')\n",
    "\n",
    "plt.subplot(1,3,3)\n",
    "plt.plot(X[mcdpp_smpl, 0], X[dpp_smpl, 1],'g.',)\n",
    "plt.title('kDPP-MC')\n",
    "\n",
    "plt.savefig('fig/unif-kdpp-mckdpp', bbox_inches='tight')\n",
    "\n",
    "\n"
   ]
  },
  {
   "cell_type": "code",
   "execution_count": null,
   "metadata": {},
   "outputs": [],
   "source": [
    "L.shape"
   ]
  },
  {
   "cell_type": "code",
   "execution_count": null,
   "metadata": {},
   "outputs": [],
   "source": [
    "L = np.array([[1,1,2],[2,3,1],[-1,2,2]])"
   ]
  },
  {
   "cell_type": "code",
   "execution_count": null,
   "metadata": {},
   "outputs": [],
   "source": [
    "scores = np.array([1,0,2])"
   ]
  },
  {
   "cell_type": "code",
   "execution_count": null,
   "metadata": {},
   "outputs": [],
   "source": [
    "print(L)\n",
    "print(scores)"
   ]
  },
  {
   "cell_type": "code",
   "execution_count": 1,
   "metadata": {},
   "outputs": [],
   "source": [
    "import old_sampler as sampler\n",
    "import numpy as np\n",
    "\n",
    "Ngrid = 40\n",
    "X = np.mgrid[-1:1:2./Ngrid, -1:1:2./Ngrid].reshape(2,Ngrid**2).transpose()\n",
    "\n",
    "dpp_smpl = sampler.cond_sample_ids(X,np.ones(len(X)),cond_ids=[798,799,800,801,802],k=40,gamma=1)"
   ]
  },
  {
   "cell_type": "code",
   "execution_count": 2,
   "metadata": {},
   "outputs": [
    {
     "data": {
      "image/png": "[encoded data removed]",
      "text/plain": [
       "<matplotlib.figure.Figure at 0x7f04fa4de0f0>"
      ]
     },
     "metadata": {},
     "output_type": "display_data"
    }
   ],
   "source": [
    "import matplotlib.pyplot as plt\n",
    "%matplotlib inline\n",
    "def draw(points):\n",
    "    plt.scatter([x for x, y in points], [y for x, y in points])\n",
    "    plt.xlim(-1, 1)\n",
    "    plt.ylim(-1, 1)\n",
    "    plt.gca().set_aspect('equal')\n",
    "    plt.pause(0.05)\n",
    "    \n",
    "draw(X[dpp_smpl])"
   ]
  },
  {
   "cell_type": "code",
   "execution_count": null,
   "metadata": {},
   "outputs": [],
   "source": [
    "X[0]"
   ]
  },
  {
   "cell_type": "code",
   "execution_count": null,
   "metadata": {},
   "outputs": [],
   "source": []
  }
 ],
 "metadata": {
  "kernelspec": {
   "display_name": "Python 3",
   "language": "python",
   "name": "python3"
  },
  "language_info": {
   "codemirror_mode": {
    "name": "ipython",
    "version": 3
   },
   "file_extension": ".py",
   "mimetype": "text/x-python",
   "name": "python",
   "nbconvert_exporter": "python",
   "pygments_lexer": "ipython3",
   "version": "3.6.4"
  }
 },
 "nbformat": 4,
 "nbformat_minor": 2
}
