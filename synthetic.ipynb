{
 "cells": [
  {
   "cell_type": "code",
   "execution_count": 1,
   "metadata": {},
   "outputs": [],
   "source": [
    "import torch\n",
    "import torch.nn as nn\n",
    "import torchvision.datasets as dsets\n",
    "import torchvision.transforms as transforms\n",
    "from torch.autograd import Variable\n",
    "from time import time\n",
    "import dpp_sampler as sampler\n",
    "import numpy as np\n",
    "import os\n",
    "import copy"
   ]
  },
  {
   "cell_type": "code",
   "execution_count": 2,
   "metadata": {},
   "outputs": [],
   "source": [
    "# Hyper Parameters \n",
    "input_size = 2\n",
    "num_classes = 2\n",
    "num_epochs = 3000\n",
    "batch_size = 150\n",
    "learning_rate = 0.1\n",
    "max_sample_count = 1000\n",
    "sub_sample_count = 150\n",
    "active_dpp_batch_size = 40"
   ]
  },
  {
   "cell_type": "code",
   "execution_count": 3,
   "metadata": {},
   "outputs": [],
   "source": [
    "data = torch.Tensor(np.load('data_synthetic/data3.npy'))\n",
    "labels = torch.LongTensor(np.load('data_synthetic/labels3.npy'))\n",
    "test_data = torch.Tensor(np.load('data_synthetic/data3_test.npy'))\n",
    "test_labels = torch.LongTensor(np.load('data_synthetic/labels3_test.npy'))"
   ]
  },
  {
   "cell_type": "code",
   "execution_count": 4,
   "metadata": {},
   "outputs": [],
   "source": [
    "# DNN Model\n",
    "class DNN(nn.Module):\n",
    "    def __init__(self, input_size, num_classes):\n",
    "        super(DNN, self).__init__()\n",
    "        self.classifier = nn.Sequential(\n",
    "            nn.Linear(input_size, 4),\n",
    "            nn.Sigmoid(),\n",
    "            nn.Linear(4, num_classes)\n",
    "        )\n",
    "    \n",
    "    def forward(self, x):\n",
    "        out = self.classifier(x)\n",
    "        return nn.functional.softmax(out, dim=1)"
   ]
  },
  {
   "cell_type": "code",
   "execution_count": 5,
   "metadata": {},
   "outputs": [],
   "source": [
    "def train_and_test(train_imgs, train_lbls, test_imgs, test_lbls, verbose=True, batch_size=batch_size):\n",
    "    model = DNN(input_size, num_classes)\n",
    "    \n",
    "    # Loss and train_labelsOptimizer\n",
    "    # Softmax is internally computed.\n",
    "    # Set parameters to be updated.\n",
    "    criterion = nn.CrossEntropyLoss()  \n",
    "    optimizer = torch.optim.Adam(model.parameters(), lr=learning_rate, weight_decay=0) # weigth decay about 1e-3, 1e-4 is ok  \n",
    "\n",
    "    # Training the Model\n",
    "    for epoch in range(num_epochs):\n",
    "        shuffle_ids = torch.randperm(train_lbls.shape[0])\n",
    "        train_imgs = train_imgs[shuffle_ids]\n",
    "        train_lbls = train_lbls[shuffle_ids]\n",
    "\n",
    "        for i in range(train_lbls.shape[0] // batch_size):\n",
    "            images = train_imgs[i*batch_size : (i+1)*batch_size]\n",
    "            labels = train_lbls[i*batch_size : (i+1)*batch_size]\n",
    "\n",
    "            images = Variable(images)\n",
    "            labels = Variable(labels)\n",
    "\n",
    "            # Forward + Backward + Optimize\n",
    "            optimizer.zero_grad()\n",
    "            outputs = model(images)\n",
    "            loss = criterion(outputs, labels)\n",
    "            loss.backward()\n",
    "            optimizer.step()\n",
    "\n",
    "            if verbose and (i+1) % (train_lbls.shape[0] // batch_size) == 0:\n",
    "                print ('Epoch: [%d/%d], Step: [%d/%d], Loss: %.4f' \n",
    "                       % (epoch+1, num_epochs, i+1, len(train_lbls)//batch_size, loss.item()))\n",
    "\n",
    "\n",
    "    # Calculate training accuracy\n",
    "    images = train_imgs[:]\n",
    "    labels = train_lbls[:]\n",
    "\n",
    "    images = Variable(images)\n",
    "    outputs = model(images)\n",
    "    _, predicted = torch.max(outputs.data, 1)\n",
    "    total = labels.size(0)\n",
    "    correct = (predicted == labels).sum()\n",
    "\n",
    "    print('Accuracy of the model on the train images: %d %%' % (100 * correct / total))\n",
    "\n",
    "\n",
    "\n",
    "    # Test the Model\n",
    "    images = test_imgs[:]\n",
    "    labels = test_lbls[:]\n",
    "\n",
    "    images = Variable(images)\n",
    "    outputs = model(images)\n",
    "    _, predicted = torch.max(outputs.data, 1)\n",
    "    total = labels.size(0)\n",
    "    correct = (predicted == labels).sum()\n",
    "\n",
    "    print('Accuracy of the model on the test images: %d %%' % (100 * correct / total))\n",
    "    return model, float(correct)/total"
   ]
  },
  {
   "cell_type": "code",
   "execution_count": 6,
   "metadata": {},
   "outputs": [],
   "source": [
    "import matplotlib.pyplot as plt\n",
    "%matplotlib inline\n",
    "def draw(points):\n",
    "    #plt.figure(figsize=(4,4))\n",
    "    plt.scatter([x for x, y in points], [y for x, y in points])\n",
    "    plt.xlim(-3*np.pi, 3*np.pi)\n",
    "    plt.ylim(-3*np.pi, 3*np.pi)\n",
    "    plt.gca().set_aspect('equal')\n",
    "    plt.pause(0.05)\n",
    "    #plt.savefig('fig/uniform', bbox_inches='tight')"
   ]
  },
  {
   "cell_type": "code",
   "execution_count": null,
   "metadata": {},
   "outputs": [],
   "source": [
    "# Full model\n",
    "model, test_acc = train_and_test(data, labels, test_data, test_labels, verbose=False)"
   ]
  },
  {
   "cell_type": "code",
   "execution_count": 15,
   "metadata": {},
   "outputs": [
    {
     "name": "stdout",
     "output_type": "stream",
     "text": [
      "Accuracy of the model on the train images: 78 %\n",
      "Accuracy of the model on the test images: 71 %\n"
     ]
    },
    {
     "data": {
      "image/png": "[encoded data removed]",
      "text/plain": [
       "<matplotlib.figure.Figure at 0x7f30207c2278>"
      ]
     },
     "metadata": {},
     "output_type": "display_data"
    }
   ],
   "source": [
    "# Random subset model\n",
    "sub_ids = torch.randperm(labels.shape[0])\n",
    "train_ids = sub_ids[:sub_sample_count]\n",
    "model, test_acc = train_and_test(data[train_ids], labels[train_ids], test_data, test_labels, verbose=False)\n",
    "draw(data[train_ids].detach().numpy())"
   ]
  },
  {
   "cell_type": "code",
   "execution_count": 16,
   "metadata": {},
   "outputs": [
    {
     "name": "stdout",
     "output_type": "stream",
     "text": [
      "Accuracy of the model on the train images: 88 %\n",
      "Accuracy of the model on the test images: 84 %\n"
     ]
    },
    {
     "data": {
      "image/png": "[encoded data removed]",
      "text/plain": [
       "<matplotlib.figure.Figure at 0x7f30204cecf8>"
      ]
     },
     "metadata": {},
     "output_type": "display_data"
    }
   ],
   "source": [
    "# Passive DPP subset model\n",
    "train_ids = sampler.sample_ids_mc(data.numpy(), np.ones(labels.shape[0]), k=sub_sample_count, alpha=4., gamma=0.)\n",
    "\n",
    "mask = np.full(labels.shape[0], True, dtype=bool)\n",
    "mask[train_ids] = False\n",
    "\n",
    "model, test_acc = train_and_test(data[train_ids], labels[train_ids], test_data, test_labels, verbose=False)\n",
    "draw(data[train_ids].detach().numpy())"
   ]
  },
  {
   "cell_type": "code",
   "execution_count": 7,
   "metadata": {},
   "outputs": [
    {
     "name": "stdout",
     "output_type": "stream",
     "text": [
      "Accuracy of the model on the train images: 80 %\n",
      "Accuracy of the model on the test images: 59 %\n",
      "Accuracy of the model on the train images: 93 %\n",
      "Accuracy of the model on the test images: 62 %\n",
      "Accuracy of the model on the train images: 93 %\n",
      "Accuracy of the model on the test images: 66 %\n",
      "Accuracy of the model on the train images: 80 %\n",
      "Accuracy of the model on the test images: 62 %\n",
      "Accuracy of the model on the train images: 80 %\n",
      "Accuracy of the model on the test images: 63 %\n",
      "Accuracy of the model on the train images: 80 %\n",
      "Accuracy of the model on the test images: 57 %\n",
      "Accuracy of the model on the train images: 93 %\n",
      "Accuracy of the model on the test images: 61 %\n",
      "Accuracy of the model on the train images: 93 %\n",
      "Accuracy of the model on the test images: 60 %\n",
      "Accuracy of the model on the train images: 100 %\n",
      "Accuracy of the model on the test images: 68 %\n",
      "Accuracy of the model on the train images: 93 %\n",
      "Accuracy of the model on the test images: 57 %\n",
      "Accuracy of the model on the train images: 100 %\n",
      "Accuracy of the model on the test images: 70 %\n",
      "Accuracy of the model on the train images: 93 %\n",
      "Accuracy of the model on the test images: 64 %\n",
      "Accuracy of the model on the train images: 73 %\n",
      "Accuracy of the model on the test images: 56 %\n",
      "Accuracy of the model on the train images: 93 %\n",
      "Accuracy of the model on the test images: 59 %\n",
      "Accuracy of the model on the train images: 100 %\n",
      "Accuracy of the model on the test images: 69 %\n",
      "Accuracy of the model on the train images: 73 %\n",
      "Accuracy of the model on the test images: 59 %\n",
      "Accuracy of the model on the train images: 80 %\n",
      "Accuracy of the model on the test images: 63 %\n",
      "Accuracy of the model on the train images: 93 %\n",
      "Accuracy of the model on the test images: 61 %\n",
      "Accuracy of the model on the train images: 100 %\n",
      "Accuracy of the model on the test images: 71 %\n",
      "Accuracy of the model on the train images: 100 %\n",
      "Accuracy of the model on the test images: 67 %\n"
     ]
    },
    {
     "data": {
      "image/png": "[encoded data removed]",
      "text/plain": [
       "<matplotlib.figure.Figure at 0x7f302106beb8>"
      ]
     },
     "metadata": {},
     "output_type": "display_data"
    },
    {
     "name": "stdout",
     "output_type": "stream",
     "text": [
      "Accuracy of the model on the train images: 93 %\n",
      "Accuracy of the model on the test images: 78 %\n",
      "Accuracy of the model on the train images: 96 %\n",
      "Accuracy of the model on the test images: 81 %\n",
      "Accuracy of the model on the train images: 76 %\n",
      "Accuracy of the model on the test images: 65 %\n",
      "Accuracy of the model on the train images: 86 %\n",
      "Accuracy of the model on the test images: 66 %\n",
      "Accuracy of the model on the train images: 86 %\n",
      "Accuracy of the model on the test images: 70 %\n",
      "Accuracy of the model on the train images: 96 %\n",
      "Accuracy of the model on the test images: 81 %\n",
      "Accuracy of the model on the train images: 96 %\n",
      "Accuracy of the model on the test images: 79 %\n",
      "Accuracy of the model on the train images: 96 %\n",
      "Accuracy of the model on the test images: 83 %\n",
      "Accuracy of the model on the train images: 66 %\n",
      "Accuracy of the model on the test images: 59 %\n",
      "Accuracy of the model on the train images: 96 %\n",
      "Accuracy of the model on the test images: 79 %\n",
      "Accuracy of the model on the train images: 76 %\n",
      "Accuracy of the model on the test images: 65 %\n",
      "Accuracy of the model on the train images: 76 %\n",
      "Accuracy of the model on the test images: 68 %\n",
      "Accuracy of the model on the train images: 96 %\n",
      "Accuracy of the model on the test images: 84 %\n",
      "Accuracy of the model on the train images: 96 %\n",
      "Accuracy of the model on the test images: 85 %\n",
      "Accuracy of the model on the train images: 96 %\n",
      "Accuracy of the model on the test images: 81 %\n",
      "Accuracy of the model on the train images: 93 %\n",
      "Accuracy of the model on the test images: 76 %\n",
      "Accuracy of the model on the train images: 76 %\n",
      "Accuracy of the model on the test images: 70 %\n",
      "Accuracy of the model on the train images: 96 %\n",
      "Accuracy of the model on the test images: 81 %\n",
      "Accuracy of the model on the train images: 96 %\n",
      "Accuracy of the model on the test images: 81 %\n",
      "Accuracy of the model on the train images: 96 %\n",
      "Accuracy of the model on the test images: 82 %\n"
     ]
    },
    {
     "data": {
      "image/png": "[encoded data removed]",
      "text/plain": [
       "<matplotlib.figure.Figure at 0x7f302075af28>"
      ]
     },
     "metadata": {},
     "output_type": "display_data"
    },
    {
     "name": "stdout",
     "output_type": "stream",
     "text": [
      "Accuracy of the model on the train images: 95 %\n",
      "Accuracy of the model on the test images: 84 %\n",
      "Accuracy of the model on the train images: 97 %\n",
      "Accuracy of the model on the test images: 84 %\n",
      "Accuracy of the model on the train images: 91 %\n",
      "Accuracy of the model on the test images: 78 %\n",
      "Accuracy of the model on the train images: 93 %\n",
      "Accuracy of the model on the test images: 81 %\n",
      "Accuracy of the model on the train images: 93 %\n",
      "Accuracy of the model on the test images: 82 %\n",
      "Accuracy of the model on the train images: 93 %\n",
      "Accuracy of the model on the test images: 84 %\n",
      "Accuracy of the model on the train images: 97 %\n",
      "Accuracy of the model on the test images: 84 %\n",
      "Accuracy of the model on the train images: 97 %\n",
      "Accuracy of the model on the test images: 83 %\n",
      "Accuracy of the model on the train images: 97 %\n",
      "Accuracy of the model on the test images: 83 %\n",
      "Accuracy of the model on the train images: 95 %\n",
      "Accuracy of the model on the test images: 83 %\n",
      "Accuracy of the model on the train images: 97 %\n",
      "Accuracy of the model on the test images: 83 %\n",
      "Accuracy of the model on the train images: 93 %\n",
      "Accuracy of the model on the test images: 83 %\n",
      "Accuracy of the model on the train images: 75 %\n",
      "Accuracy of the model on the test images: 70 %\n",
      "Accuracy of the model on the train images: 95 %\n",
      "Accuracy of the model on the test images: 82 %\n",
      "Accuracy of the model on the train images: 95 %\n",
      "Accuracy of the model on the test images: 83 %\n",
      "Accuracy of the model on the train images: 95 %\n",
      "Accuracy of the model on the test images: 83 %\n",
      "Accuracy of the model on the train images: 97 %\n",
      "Accuracy of the model on the test images: 83 %\n",
      "Accuracy of the model on the train images: 97 %\n",
      "Accuracy of the model on the test images: 83 %\n",
      "Accuracy of the model on the train images: 95 %\n",
      "Accuracy of the model on the test images: 84 %\n",
      "Accuracy of the model on the train images: 75 %\n",
      "Accuracy of the model on the test images: 71 %\n"
     ]
    },
    {
     "data": {
      "image/png": "[encoded data removed]",
      "text/plain": [
       "<matplotlib.figure.Figure at 0x7f3020786fd0>"
      ]
     },
     "metadata": {},
     "output_type": "display_data"
    },
    {
     "name": "stdout",
     "output_type": "stream",
     "text": [
      "Accuracy of the model on the train images: 95 %\n",
      "Accuracy of the model on the test images: 84 %\n",
      "Accuracy of the model on the train images: 75 %\n",
      "Accuracy of the model on the test images: 69 %\n",
      "Accuracy of the model on the train images: 96 %\n",
      "Accuracy of the model on the test images: 84 %\n",
      "Accuracy of the model on the train images: 93 %\n",
      "Accuracy of the model on the test images: 84 %\n",
      "Accuracy of the model on the train images: 93 %\n",
      "Accuracy of the model on the test images: 85 %\n",
      "Accuracy of the model on the train images: 96 %\n",
      "Accuracy of the model on the test images: 83 %\n",
      "Accuracy of the model on the train images: 76 %\n",
      "Accuracy of the model on the test images: 72 %\n",
      "Accuracy of the model on the train images: 76 %\n",
      "Accuracy of the model on the test images: 70 %\n",
      "Accuracy of the model on the train images: 96 %\n",
      "Accuracy of the model on the test images: 83 %\n",
      "Accuracy of the model on the train images: 95 %\n",
      "Accuracy of the model on the test images: 83 %\n",
      "Accuracy of the model on the train images: 76 %\n",
      "Accuracy of the model on the test images: 70 %\n",
      "Accuracy of the model on the train images: 76 %\n",
      "Accuracy of the model on the test images: 70 %\n",
      "Accuracy of the model on the train images: 76 %\n",
      "Accuracy of the model on the test images: 70 %\n",
      "Accuracy of the model on the train images: 95 %\n",
      "Accuracy of the model on the test images: 85 %\n",
      "Accuracy of the model on the train images: 93 %\n",
      "Accuracy of the model on the test images: 85 %\n",
      "Accuracy of the model on the train images: 76 %\n",
      "Accuracy of the model on the test images: 71 %\n",
      "Accuracy of the model on the train images: 76 %\n",
      "Accuracy of the model on the test images: 71 %\n",
      "Accuracy of the model on the train images: 95 %\n",
      "Accuracy of the model on the test images: 83 %\n",
      "Accuracy of the model on the train images: 95 %\n",
      "Accuracy of the model on the test images: 83 %\n",
      "Accuracy of the model on the train images: 76 %\n",
      "Accuracy of the model on the test images: 69 %\n"
     ]
    },
    {
     "data": {
      "image/png": "[encoded data removed]",
      "text/plain": [
       "<matplotlib.figure.Figure at 0x7f30206edc18>"
      ]
     },
     "metadata": {},
     "output_type": "display_data"
    },
    {
     "name": "stdout",
     "output_type": "stream",
     "text": [
      "Accuracy of the model on the train images: 89 %\n",
      "Accuracy of the model on the test images: 83 %\n",
      "Accuracy of the model on the train images: 89 %\n",
      "Accuracy of the model on the test images: 83 %\n",
      "Accuracy of the model on the train images: 89 %\n",
      "Accuracy of the model on the test images: 83 %\n",
      "Accuracy of the model on the train images: 89 %\n",
      "Accuracy of the model on the test images: 83 %\n",
      "Accuracy of the model on the train images: 81 %\n",
      "Accuracy of the model on the test images: 79 %\n",
      "Accuracy of the model on the train images: 92 %\n",
      "Accuracy of the model on the test images: 84 %\n",
      "Accuracy of the model on the train images: 93 %\n",
      "Accuracy of the model on the test images: 83 %\n",
      "Accuracy of the model on the train images: 90 %\n",
      "Accuracy of the model on the test images: 83 %\n",
      "Accuracy of the model on the train images: 93 %\n",
      "Accuracy of the model on the test images: 83 %\n",
      "Accuracy of the model on the train images: 89 %\n",
      "Accuracy of the model on the test images: 83 %\n",
      "Accuracy of the model on the train images: 89 %\n",
      "Accuracy of the model on the test images: 83 %\n",
      "Accuracy of the model on the train images: 90 %\n",
      "Accuracy of the model on the test images: 83 %\n",
      "Accuracy of the model on the train images: 90 %\n",
      "Accuracy of the model on the test images: 85 %\n",
      "Accuracy of the model on the train images: 93 %\n",
      "Accuracy of the model on the test images: 84 %\n",
      "Accuracy of the model on the train images: 93 %\n",
      "Accuracy of the model on the test images: 85 %\n",
      "Accuracy of the model on the train images: 89 %\n",
      "Accuracy of the model on the test images: 83 %\n",
      "Accuracy of the model on the train images: 89 %\n",
      "Accuracy of the model on the test images: 83 %\n",
      "Accuracy of the model on the train images: 89 %\n",
      "Accuracy of the model on the test images: 83 %\n",
      "Accuracy of the model on the train images: 92 %\n",
      "Accuracy of the model on the test images: 85 %\n",
      "Accuracy of the model on the train images: 93 %\n",
      "Accuracy of the model on the test images: 84 %\n"
     ]
    },
    {
     "data": {
      "image/png": "[encoded data removed]",
      "text/plain": [
       "<matplotlib.figure.Figure at 0x7f30206cbe80>"
      ]
     },
     "metadata": {},
     "output_type": "display_data"
    },
    {
     "name": "stdout",
     "output_type": "stream",
     "text": [
      "Accuracy of the model on the train images: 84 %\n",
      "Accuracy of the model on the test images: 75 %\n",
      "Accuracy of the model on the train images: 92 %\n",
      "Accuracy of the model on the test images: 84 %\n",
      "Accuracy of the model on the train images: 93 %\n",
      "Accuracy of the model on the test images: 85 %\n",
      "Accuracy of the model on the train images: 92 %\n",
      "Accuracy of the model on the test images: 85 %\n",
      "Accuracy of the model on the train images: 73 %\n",
      "Accuracy of the model on the test images: 71 %\n",
      "Accuracy of the model on the train images: 86 %\n",
      "Accuracy of the model on the test images: 84 %\n",
      "Accuracy of the model on the train images: 87 %\n",
      "Accuracy of the model on the test images: 83 %\n",
      "Accuracy of the model on the train images: 93 %\n",
      "Accuracy of the model on the test images: 85 %\n",
      "Accuracy of the model on the train images: 93 %\n",
      "Accuracy of the model on the test images: 85 %\n",
      "Accuracy of the model on the train images: 91 %\n",
      "Accuracy of the model on the test images: 84 %\n",
      "Accuracy of the model on the train images: 82 %\n",
      "Accuracy of the model on the test images: 75 %\n",
      "Accuracy of the model on the train images: 86 %\n",
      "Accuracy of the model on the test images: 83 %\n",
      "Accuracy of the model on the train images: 93 %\n",
      "Accuracy of the model on the test images: 85 %\n",
      "Accuracy of the model on the train images: 92 %\n",
      "Accuracy of the model on the test images: 85 %\n",
      "Accuracy of the model on the train images: 91 %\n",
      "Accuracy of the model on the test images: 87 %\n",
      "Accuracy of the model on the train images: 93 %\n",
      "Accuracy of the model on the test images: 85 %\n",
      "Accuracy of the model on the train images: 93 %\n",
      "Accuracy of the model on the test images: 85 %\n",
      "Accuracy of the model on the train images: 93 %\n",
      "Accuracy of the model on the test images: 86 %\n",
      "Accuracy of the model on the train images: 94 %\n",
      "Accuracy of the model on the test images: 85 %\n",
      "Accuracy of the model on the train images: 91 %\n",
      "Accuracy of the model on the test images: 84 %\n"
     ]
    },
    {
     "data": {
      "image/png": "[encoded data removed]",
      "text/plain": [
       "<matplotlib.figure.Figure at 0x7f3020626f28>"
      ]
     },
     "metadata": {},
     "output_type": "display_data"
    },
    {
     "name": "stdout",
     "output_type": "stream",
     "text": [
      "Accuracy of the model on the train images: 89 %\n",
      "Accuracy of the model on the test images: 83 %\n",
      "Accuracy of the model on the train images: 86 %\n",
      "Accuracy of the model on the test images: 85 %\n",
      "Accuracy of the model on the train images: 79 %\n",
      "Accuracy of the model on the test images: 77 %\n",
      "Accuracy of the model on the train images: 86 %\n",
      "Accuracy of the model on the test images: 84 %\n",
      "Accuracy of the model on the train images: 92 %\n",
      "Accuracy of the model on the test images: 86 %\n",
      "Accuracy of the model on the train images: 89 %\n",
      "Accuracy of the model on the test images: 83 %\n",
      "Accuracy of the model on the train images: 92 %\n",
      "Accuracy of the model on the test images: 86 %\n",
      "Accuracy of the model on the train images: 87 %\n",
      "Accuracy of the model on the test images: 84 %\n",
      "Accuracy of the model on the train images: 77 %\n",
      "Accuracy of the model on the test images: 73 %\n",
      "Accuracy of the model on the train images: 86 %\n",
      "Accuracy of the model on the test images: 84 %\n",
      "Accuracy of the model on the train images: 93 %\n",
      "Accuracy of the model on the test images: 85 %\n",
      "Accuracy of the model on the train images: 93 %\n",
      "Accuracy of the model on the test images: 85 %\n",
      "Accuracy of the model on the train images: 83 %\n",
      "Accuracy of the model on the test images: 75 %\n",
      "Accuracy of the model on the train images: 92 %\n",
      "Accuracy of the model on the test images: 87 %\n",
      "Accuracy of the model on the train images: 73 %\n",
      "Accuracy of the model on the test images: 71 %\n",
      "Accuracy of the model on the train images: 87 %\n",
      "Accuracy of the model on the test images: 84 %\n",
      "Accuracy of the model on the train images: 91 %\n",
      "Accuracy of the model on the test images: 87 %\n",
      "Accuracy of the model on the train images: 87 %\n",
      "Accuracy of the model on the test images: 82 %\n",
      "Accuracy of the model on the train images: 92 %\n",
      "Accuracy of the model on the test images: 85 %\n",
      "Accuracy of the model on the train images: 81 %\n",
      "Accuracy of the model on the test images: 77 %\n"
     ]
    },
    {
     "data": {
      "image/png": "[encoded data removed]",
      "text/plain": [
       "<matplotlib.figure.Figure at 0x7f3020605fd0>"
      ]
     },
     "metadata": {},
     "output_type": "display_data"
    },
    {
     "name": "stdout",
     "output_type": "stream",
     "text": [
      "Accuracy of the model on the train images: 93 %\n",
      "Accuracy of the model on the test images: 86 %\n",
      "Accuracy of the model on the train images: 88 %\n",
      "Accuracy of the model on the test images: 83 %\n",
      "Accuracy of the model on the train images: 81 %\n",
      "Accuracy of the model on the test images: 76 %\n",
      "Accuracy of the model on the train images: 86 %\n",
      "Accuracy of the model on the test images: 83 %\n",
      "Accuracy of the model on the train images: 89 %\n",
      "Accuracy of the model on the test images: 86 %\n",
      "Accuracy of the model on the train images: 87 %\n",
      "Accuracy of the model on the test images: 85 %\n",
      "Accuracy of the model on the train images: 86 %\n",
      "Accuracy of the model on the test images: 82 %\n",
      "Accuracy of the model on the train images: 82 %\n",
      "Accuracy of the model on the test images: 77 %\n",
      "Accuracy of the model on the train images: 89 %\n",
      "Accuracy of the model on the test images: 83 %\n",
      "Accuracy of the model on the train images: 69 %\n",
      "Accuracy of the model on the test images: 71 %\n",
      "Accuracy of the model on the train images: 61 %\n",
      "Accuracy of the model on the test images: 59 %\n",
      "Accuracy of the model on the train images: 88 %\n",
      "Accuracy of the model on the test images: 85 %\n",
      "Accuracy of the model on the train images: 93 %\n",
      "Accuracy of the model on the test images: 86 %\n",
      "Accuracy of the model on the train images: 88 %\n",
      "Accuracy of the model on the test images: 86 %\n",
      "Accuracy of the model on the train images: 84 %\n",
      "Accuracy of the model on the test images: 78 %\n",
      "Accuracy of the model on the train images: 86 %\n",
      "Accuracy of the model on the test images: 85 %\n",
      "Accuracy of the model on the train images: 84 %\n",
      "Accuracy of the model on the test images: 78 %\n",
      "Accuracy of the model on the train images: 87 %\n",
      "Accuracy of the model on the test images: 83 %\n",
      "Accuracy of the model on the train images: 78 %\n",
      "Accuracy of the model on the test images: 79 %\n",
      "Accuracy of the model on the train images: 86 %\n",
      "Accuracy of the model on the test images: 84 %\n"
     ]
    },
    {
     "data": {
      "image/png": "[encoded data removed]",
      "text/plain": [
       "<matplotlib.figure.Figure at 0x7f302075a438>"
      ]
     },
     "metadata": {},
     "output_type": "display_data"
    },
    {
     "name": "stdout",
     "output_type": "stream",
     "text": [
      "Accuracy of the model on the train images: 85 %\n",
      "Accuracy of the model on the test images: 84 %\n",
      "Accuracy of the model on the train images: 88 %\n",
      "Accuracy of the model on the test images: 87 %\n",
      "Accuracy of the model on the train images: 87 %\n",
      "Accuracy of the model on the test images: 84 %\n",
      "Accuracy of the model on the train images: 91 %\n",
      "Accuracy of the model on the test images: 87 %\n",
      "Accuracy of the model on the train images: 85 %\n",
      "Accuracy of the model on the test images: 84 %\n",
      "Accuracy of the model on the train images: 88 %\n",
      "Accuracy of the model on the test images: 84 %\n",
      "Accuracy of the model on the train images: 88 %\n",
      "Accuracy of the model on the test images: 86 %\n",
      "Accuracy of the model on the train images: 88 %\n",
      "Accuracy of the model on the test images: 85 %\n",
      "Accuracy of the model on the train images: 89 %\n",
      "Accuracy of the model on the test images: 86 %\n",
      "Accuracy of the model on the train images: 85 %\n",
      "Accuracy of the model on the test images: 84 %\n",
      "Accuracy of the model on the train images: 91 %\n",
      "Accuracy of the model on the test images: 87 %\n",
      "Accuracy of the model on the train images: 89 %\n",
      "Accuracy of the model on the test images: 88 %\n",
      "Accuracy of the model on the train images: 84 %\n",
      "Accuracy of the model on the test images: 84 %\n",
      "Accuracy of the model on the train images: 90 %\n",
      "Accuracy of the model on the test images: 86 %\n",
      "Accuracy of the model on the train images: 88 %\n",
      "Accuracy of the model on the test images: 84 %\n",
      "Accuracy of the model on the train images: 84 %\n",
      "Accuracy of the model on the test images: 85 %\n",
      "Accuracy of the model on the train images: 87 %\n",
      "Accuracy of the model on the test images: 85 %\n",
      "Accuracy of the model on the train images: 90 %\n",
      "Accuracy of the model on the test images: 85 %\n",
      "Accuracy of the model on the train images: 83 %\n",
      "Accuracy of the model on the test images: 82 %\n",
      "Accuracy of the model on the train images: 84 %\n",
      "Accuracy of the model on the test images: 84 %\n"
     ]
    },
    {
     "data": {
      "image/png": "[encoded data removed]",
      "text/plain": [
       "<matplotlib.figure.Figure at 0x7f302075a2b0>"
      ]
     },
     "metadata": {},
     "output_type": "display_data"
    },
    {
     "name": "stdout",
     "output_type": "stream",
     "text": [
      "Accuracy of the model on the train images: 87 %\n",
      "Accuracy of the model on the test images: 87 %\n",
      "Accuracy of the model on the train images: 87 %\n",
      "Accuracy of the model on the test images: 83 %\n",
      "Accuracy of the model on the train images: 88 %\n",
      "Accuracy of the model on the test images: 87 %\n",
      "Accuracy of the model on the train images: 90 %\n",
      "Accuracy of the model on the test images: 86 %\n",
      "Accuracy of the model on the train images: 86 %\n",
      "Accuracy of the model on the test images: 86 %\n",
      "Accuracy of the model on the train images: 66 %\n",
      "Accuracy of the model on the test images: 68 %\n",
      "Accuracy of the model on the train images: 84 %\n",
      "Accuracy of the model on the test images: 85 %\n",
      "Accuracy of the model on the train images: 90 %\n",
      "Accuracy of the model on the test images: 87 %\n",
      "Accuracy of the model on the train images: 84 %\n",
      "Accuracy of the model on the test images: 82 %\n",
      "Accuracy of the model on the train images: 88 %\n",
      "Accuracy of the model on the test images: 86 %\n",
      "Accuracy of the model on the train images: 86 %\n",
      "Accuracy of the model on the test images: 87 %\n",
      "Accuracy of the model on the train images: 85 %\n",
      "Accuracy of the model on the test images: 85 %\n",
      "Accuracy of the model on the train images: 84 %\n",
      "Accuracy of the model on the test images: 84 %\n",
      "Accuracy of the model on the train images: 87 %\n",
      "Accuracy of the model on the test images: 83 %\n",
      "Accuracy of the model on the train images: 89 %\n",
      "Accuracy of the model on the test images: 87 %\n",
      "Accuracy of the model on the train images: 84 %\n",
      "Accuracy of the model on the test images: 84 %\n",
      "Accuracy of the model on the train images: 90 %\n",
      "Accuracy of the model on the test images: 88 %\n",
      "Accuracy of the model on the train images: 84 %\n",
      "Accuracy of the model on the test images: 85 %\n",
      "Accuracy of the model on the train images: 86 %\n",
      "Accuracy of the model on the test images: 86 %\n",
      "Accuracy of the model on the train images: 82 %\n",
      "Accuracy of the model on the test images: 83 %\n"
     ]
    },
    {
     "data": {
      "image/png": "[encoded data removed]",
      "text/plain": [
       "<matplotlib.figure.Figure at 0x7f302075aef0>"
      ]
     },
     "metadata": {},
     "output_type": "display_data"
    },
    {
     "name": "stdout",
     "output_type": "stream",
     "text": [
      "Accuracy of the model on the train images: 85 %\n",
      "Accuracy of the model on the test images: 81 %\n"
     ]
    }
   ],
   "source": [
    "# Active DPP subset model (new sampler w/ conditioning)\n",
    "scores = np.ones(labels.shape[0])\n",
    "train_ids = []\n",
    "\n",
    "batches = [15]*10\n",
    "\n",
    "for i in range(len(batches)):\n",
    "    k = int(np.ceil(2.0*batches[i]/3))\n",
    "    #k = batches[i]\n",
    "    new_train_ids = sampler.cond_sample_ids_mc(data.numpy(), scores, cond_ids=train_ids, k=k, alpha=4., gamma=5.)\n",
    "    train_ids = np.append(train_ids, new_train_ids).astype(np.int)\n",
    "    new_train_ids = sampler.cond_sample_ids_mc(data.numpy(), scores, cond_ids=train_ids, k=batches[i]-k, alpha=4., gamma=0.)\n",
    "    train_ids = np.append(train_ids, new_train_ids).astype(np.int)\n",
    "\n",
    "    mask = np.full(labels.shape[0], True, dtype=bool)\n",
    "    mask[train_ids] = False\n",
    "    remaining_ids = np.arange(labels.shape[0])[mask]\n",
    "\n",
    "\n",
    "    out = np.zeros((20,data.shape[0],num_classes))\n",
    "    models = []\n",
    "    for j in range(20):\n",
    "        m, test_acc = train_and_test(data[train_ids], labels[train_ids], data[remaining_ids], labels[remaining_ids], verbose=False, batch_size=len(train_ids))\n",
    "        models.append(m)\n",
    "        out[j,:,:] = models[j](data).detach().numpy()\n",
    "\n",
    "    out = np.mean(out, axis=0)\n",
    "    scores = np.sum(-out*np.log(out),axis=1)\n",
    "    scores[scores!=scores] = 0 # because 0*log(0)=0\n",
    "    scores = scores + 1e-8 # just to make sure condition is not zero-probability\n",
    "\n",
    "    draw(data[train_ids].detach().numpy())\n",
    "#import pdb; pdb.set_trace()\n",
    "model, test_acc = train_and_test(data[train_ids], labels[train_ids], test_data, test_labels, verbose=False, batch_size=len(train_ids))"
   ]
  },
  {
   "cell_type": "code",
   "execution_count": null,
   "metadata": {},
   "outputs": [],
   "source": [
    "draw(data[train_ids].detach().numpy())\n",
    "plt.savefig('fig/passive', bbox_inches='tight')"
   ]
  },
  {
   "cell_type": "code",
   "execution_count": null,
   "metadata": {},
   "outputs": [],
   "source": []
  }
 ],
 "metadata": {
  "kernelspec": {
   "display_name": "Python 3",
   "language": "python",
   "name": "python3"
  },
  "language_info": {
   "codemirror_mode": {
    "name": "ipython",
    "version": 3
   },
   "file_extension": ".py",
   "mimetype": "text/x-python",
   "name": "python",
   "nbconvert_exporter": "python",
   "pygments_lexer": "ipython3",
   "version": "3.6.4"
  }
 },
 "nbformat": 4,
 "nbformat_minor": 2
}
